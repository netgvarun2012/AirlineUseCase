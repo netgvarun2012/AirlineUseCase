{
 "cells": [
  {
   "cell_type": "markdown",
   "metadata": {},
   "source": [
    "### 1.2 Data wrangling\n",
    "Please find `hotel_sample_data_raw_bookings.csv` and `hotel_sample_data_raw_inventories.csv`  in the `data` folder. Use either SQL or python to aggregate the data to **hotel level** with the metrics below:\n",
    "> Refer to appendix for the data dictionary and description\n",
    "\n",
    "1. MTD (month-to-date) total bookings (as of 2023-09-18)\n",
    "2. Average daily booking\n",
    "3. Average weekly booking\n",
    "4. Average monthly booking\n",
    "5. Second last booking date\n",
    "6. Recency\n",
    "7. Average transaction value\n",
    "\n",
    "You just need to fill in either q1.2.ipynb or q1.2sql"
   ]
  },
  {
   "cell_type": "code",
   "execution_count": null,
   "metadata": {
    "vscode": {
     "languageId": "plaintext"
    }
   },
   "outputs": [],
   "source": []
  }
 ],
 "metadata": {
  "language_info": {
   "name": "python"
  },
  "orig_nbformat": 4
 },
 "nbformat": 4,
 "nbformat_minor": 2
}
