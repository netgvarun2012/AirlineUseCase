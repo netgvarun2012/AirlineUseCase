{
 "cells": [
  {
   "cell_type": "markdown",
   "metadata": {},
   "source": [
    "#### 1.3.1\n",
    "Please make use of the data you have processed in the `1.2` to build a sample ranking model.\n",
    "> We understand that the best model is not built in a day with limited features. Thus this task is only evaluating on your coding abilities and will not evaluate much on modelling abilities thus you do not need to spend too much time to optimize the model to get best performance"
   ]
  },
  {
   "cell_type": "code",
   "execution_count": null,
   "metadata": {
    "vscode": {
     "languageId": "plaintext"
    }
   },
   "outputs": [],
   "source": []
  }
 ],
 "metadata": {
  "language_info": {
   "name": "python"
  },
  "orig_nbformat": 4
 },
 "nbformat": 4,
 "nbformat_minor": 2
}
